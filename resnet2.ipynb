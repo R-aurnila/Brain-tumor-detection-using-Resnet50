{
  "cells": [
    {
      "cell_type": "code",
      "execution_count": null,
      "metadata": {
        "id": "DXHmxsRIgjQG"
      },
      "outputs": [],
      "source": [
        "import tensorflow as tf\n",
        "from tensorflow.keras import layers, models\n",
        "from tensorflow.keras.applications import ResNet50\n",
        "from tensorflow.keras.optimizers import Adam\n",
        "from tensorflow.keras.preprocessing.image import ImageDataGenerator"
      ]
    },
    {
      "cell_type": "code",
      "execution_count": null,
      "metadata": {
        "id": "Xu-1drIEhCfa"
      },
      "outputs": [],
      "source": [
        "# Define constants\n",
        "img_size = (224, 224)\n",
        "batch_size = 32\n",
        "epochs = 50\n",
        "num_classes = 2  # binary classification"
      ]
    },
    {
      "cell_type": "code",
      "execution_count": null,
      "metadata": {
        "id": "8AZqIHFdhOVB"
      },
      "outputs": [],
      "source": [
        "# Create ResNet50 base model\n",
        "base_model = ResNet50(include_top=False, input_shape=(224, 224, 3), pooling='avg', weights='imagenet')"
      ]
    },
    {
      "cell_type": "code",
      "execution_count": null,
      "metadata": {
        "colab": {
          "base_uri": "https://localhost:8080/"
        },
        "id": "SOTYYZ3FiOxL",
        "outputId": "cf8a4251-ce23-4b6f-b0e0-26d05718e5e2"
      },
      "outputs": [
        {
          "output_type": "stream",
          "name": "stdout",
          "text": [
            "Mounted at /content/drive\n"
          ]
        }
      ],
      "source": [
        "from google.colab import drive\n",
        "drive.mount('/content/drive')"
      ]
    },
    {
      "cell_type": "code",
      "execution_count": null,
      "metadata": {
        "colab": {
          "base_uri": "https://localhost:8080/"
        },
        "id": "9lZnpH2lhllQ",
        "outputId": "6143648c-4c4a-4366-89be-6e812192f253"
      },
      "outputs": [
        {
          "output_type": "stream",
          "name": "stdout",
          "text": [
            "Model: \"sequential_1\"\n",
            "_________________________________________________________________\n",
            " Layer (type)                Output Shape              Param #   \n",
            "=================================================================\n",
            " resnet50 (Functional)       (None, 2048)              23587712  \n",
            "                                                                 \n",
            " flatten_1 (Flatten)         (None, 2048)              0         \n",
            "                                                                 \n",
            " dense_2 (Dense)             (None, 256)               524544    \n",
            "                                                                 \n",
            " dropout_1 (Dropout)         (None, 256)               0         \n",
            "                                                                 \n",
            " dense_3 (Dense)             (None, 1)                 257       \n",
            "                                                                 \n",
            "=================================================================\n",
            "Total params: 24112513 (91.98 MB)\n",
            "Trainable params: 524801 (2.00 MB)\n",
            "Non-trainable params: 23587712 (89.98 MB)\n",
            "_________________________________________________________________\n",
            "Found 7053 images belonging to 2 classes.\n",
            "Found 7053 images belonging to 2 classes.\n",
            "Epoch 1/50\n",
            "221/221 [==============================] - 1252s 6s/step - loss: 0.5085 - accuracy: 0.8085 - val_loss: 0.4816 - val_accuracy: 0.8127\n",
            "Epoch 2/50\n",
            "221/221 [==============================] - 142s 644ms/step - loss: 0.4964 - accuracy: 0.8127 - val_loss: 0.4813 - val_accuracy: 0.8127\n",
            "Epoch 3/50\n",
            "221/221 [==============================] - 143s 646ms/step - loss: 0.4954 - accuracy: 0.8127 - val_loss: 0.4818 - val_accuracy: 0.8127\n",
            "Epoch 4/50\n",
            "221/221 [==============================] - 141s 639ms/step - loss: 0.4940 - accuracy: 0.8127 - val_loss: 0.4798 - val_accuracy: 0.8127\n",
            "Epoch 5/50\n",
            "221/221 [==============================] - 138s 626ms/step - loss: 0.4922 - accuracy: 0.8127 - val_loss: 0.4782 - val_accuracy: 0.8127\n",
            "Epoch 6/50\n",
            "221/221 [==============================] - 142s 644ms/step - loss: 0.4890 - accuracy: 0.8127 - val_loss: 0.4779 - val_accuracy: 0.8127\n",
            "Epoch 7/50\n",
            "221/221 [==============================] - 139s 630ms/step - loss: 0.4865 - accuracy: 0.8127 - val_loss: 0.4773 - val_accuracy: 0.8127\n",
            "Epoch 8/50\n",
            "221/221 [==============================] - 154s 697ms/step - loss: 0.4920 - accuracy: 0.8127 - val_loss: 0.4820 - val_accuracy: 0.8127\n",
            "Epoch 9/50\n",
            "221/221 [==============================] - 137s 622ms/step - loss: 0.4858 - accuracy: 0.8127 - val_loss: 0.4781 - val_accuracy: 0.8127\n",
            "Epoch 10/50\n",
            "221/221 [==============================] - 152s 690ms/step - loss: 0.4888 - accuracy: 0.8127 - val_loss: 0.4770 - val_accuracy: 0.8127\n",
            "Epoch 11/50\n",
            "221/221 [==============================] - 139s 628ms/step - loss: 0.4856 - accuracy: 0.8127 - val_loss: 0.4769 - val_accuracy: 0.8127\n",
            "Epoch 12/50\n",
            "221/221 [==============================] - 137s 620ms/step - loss: 0.4827 - accuracy: 0.8127 - val_loss: 0.4794 - val_accuracy: 0.8127\n",
            "Epoch 13/50\n",
            "221/221 [==============================] - 138s 624ms/step - loss: 0.4853 - accuracy: 0.8127 - val_loss: 0.4972 - val_accuracy: 0.8127\n",
            "Epoch 14/50\n",
            "221/221 [==============================] - 136s 616ms/step - loss: 0.4852 - accuracy: 0.8127 - val_loss: 0.4783 - val_accuracy: 0.8127\n",
            "Epoch 15/50\n",
            "221/221 [==============================] - 138s 624ms/step - loss: 0.4858 - accuracy: 0.8127 - val_loss: 0.4863 - val_accuracy: 0.8127\n",
            "Epoch 16/50\n",
            "221/221 [==============================] - 136s 615ms/step - loss: 0.4830 - accuracy: 0.8127 - val_loss: 0.4763 - val_accuracy: 0.8127\n",
            "Epoch 17/50\n",
            "221/221 [==============================] - 137s 618ms/step - loss: 0.4824 - accuracy: 0.8127 - val_loss: 0.4763 - val_accuracy: 0.8127\n",
            "Epoch 18/50\n",
            "221/221 [==============================] - 137s 621ms/step - loss: 0.4851 - accuracy: 0.8127 - val_loss: 0.4777 - val_accuracy: 0.8127\n",
            "Epoch 19/50\n",
            "221/221 [==============================] - 140s 632ms/step - loss: 0.4850 - accuracy: 0.8127 - val_loss: 0.4763 - val_accuracy: 0.8127\n",
            "Epoch 20/50\n",
            "221/221 [==============================] - 138s 625ms/step - loss: 0.4821 - accuracy: 0.8127 - val_loss: 0.4775 - val_accuracy: 0.8127\n",
            "Epoch 21/50\n",
            "221/221 [==============================] - 138s 623ms/step - loss: 0.4823 - accuracy: 0.8127 - val_loss: 0.4764 - val_accuracy: 0.8127\n",
            "Epoch 22/50\n",
            "221/221 [==============================] - 153s 694ms/step - loss: 0.4822 - accuracy: 0.8127 - val_loss: 0.4767 - val_accuracy: 0.8127\n",
            "Epoch 23/50\n",
            "221/221 [==============================] - 152s 691ms/step - loss: 0.4820 - accuracy: 0.8127 - val_loss: 0.4775 - val_accuracy: 0.8127\n",
            "Epoch 24/50\n",
            "221/221 [==============================] - 137s 620ms/step - loss: 0.4831 - accuracy: 0.8127 - val_loss: 0.4766 - val_accuracy: 0.8127\n",
            "Epoch 25/50\n",
            "221/221 [==============================] - 139s 629ms/step - loss: 0.4814 - accuracy: 0.8127 - val_loss: 0.4766 - val_accuracy: 0.8127\n",
            "Epoch 26/50\n",
            "221/221 [==============================] - 137s 620ms/step - loss: 0.4824 - accuracy: 0.8127 - val_loss: 0.4755 - val_accuracy: 0.8127\n",
            "Epoch 27/50\n",
            "221/221 [==============================] - 139s 628ms/step - loss: 0.4828 - accuracy: 0.8127 - val_loss: 0.4757 - val_accuracy: 0.8127\n",
            "Epoch 28/50\n",
            "221/221 [==============================] - 137s 622ms/step - loss: 0.4826 - accuracy: 0.8127 - val_loss: 0.4766 - val_accuracy: 0.8127\n",
            "Epoch 29/50\n",
            "221/221 [==============================] - 152s 690ms/step - loss: 0.4806 - accuracy: 0.8127 - val_loss: 0.4756 - val_accuracy: 0.8127\n",
            "Epoch 30/50\n",
            "221/221 [==============================] - 153s 692ms/step - loss: 0.4819 - accuracy: 0.8127 - val_loss: 0.4764 - val_accuracy: 0.8127\n",
            "Epoch 31/50\n",
            "221/221 [==============================] - 137s 618ms/step - loss: 0.4796 - accuracy: 0.8127 - val_loss: 0.4772 - val_accuracy: 0.8127\n",
            "Epoch 32/50\n",
            "221/221 [==============================] - 138s 625ms/step - loss: 0.4807 - accuracy: 0.8127 - val_loss: 0.4758 - val_accuracy: 0.8127\n",
            "Epoch 33/50\n",
            "221/221 [==============================] - 138s 624ms/step - loss: 0.4806 - accuracy: 0.8127 - val_loss: 0.4760 - val_accuracy: 0.8127\n",
            "Epoch 34/50\n",
            "221/221 [==============================] - 136s 616ms/step - loss: 0.4825 - accuracy: 0.8127 - val_loss: 0.4773 - val_accuracy: 0.8127\n",
            "Epoch 35/50\n",
            "221/221 [==============================] - 137s 620ms/step - loss: 0.4801 - accuracy: 0.8127 - val_loss: 0.4771 - val_accuracy: 0.8127\n",
            "Epoch 36/50\n",
            "221/221 [==============================] - 139s 626ms/step - loss: 0.4806 - accuracy: 0.8127 - val_loss: 0.4763 - val_accuracy: 0.8127\n",
            "Epoch 37/50\n",
            "221/221 [==============================] - 135s 612ms/step - loss: 0.4800 - accuracy: 0.8127 - val_loss: 0.4760 - val_accuracy: 0.8127\n",
            "Epoch 38/50\n",
            "221/221 [==============================] - 151s 686ms/step - loss: 0.4810 - accuracy: 0.8127 - val_loss: 0.4793 - val_accuracy: 0.8127\n",
            "Epoch 39/50\n",
            "221/221 [==============================] - 137s 620ms/step - loss: 0.4799 - accuracy: 0.8127 - val_loss: 0.4769 - val_accuracy: 0.8127\n",
            "Epoch 40/50\n",
            "221/221 [==============================] - 152s 689ms/step - loss: 0.4804 - accuracy: 0.8127 - val_loss: 0.4773 - val_accuracy: 0.8127\n",
            "Epoch 41/50\n",
            "221/221 [==============================] - 137s 620ms/step - loss: 0.4784 - accuracy: 0.8127 - val_loss: 0.4769 - val_accuracy: 0.8127\n",
            "Epoch 42/50\n",
            "221/221 [==============================] - 136s 617ms/step - loss: 0.4795 - accuracy: 0.8127 - val_loss: 0.4758 - val_accuracy: 0.8127\n",
            "Epoch 43/50\n",
            "221/221 [==============================] - 153s 692ms/step - loss: 0.4805 - accuracy: 0.8127 - val_loss: 0.4763 - val_accuracy: 0.8127\n",
            "Epoch 44/50\n",
            "221/221 [==============================] - 136s 616ms/step - loss: 0.4784 - accuracy: 0.8127 - val_loss: 0.4771 - val_accuracy: 0.8127\n",
            "Epoch 45/50\n",
            "221/221 [==============================] - 152s 691ms/step - loss: 0.4814 - accuracy: 0.8127 - val_loss: 0.4753 - val_accuracy: 0.8127\n",
            "Epoch 46/50\n",
            "221/221 [==============================] - 137s 617ms/step - loss: 0.4793 - accuracy: 0.8127 - val_loss: 0.4750 - val_accuracy: 0.8127\n",
            "Epoch 47/50\n",
            "221/221 [==============================] - 136s 616ms/step - loss: 0.4788 - accuracy: 0.8127 - val_loss: 0.4753 - val_accuracy: 0.8127\n",
            "Epoch 48/50\n",
            "221/221 [==============================] - 152s 691ms/step - loss: 0.4810 - accuracy: 0.8127 - val_loss: 0.4755 - val_accuracy: 0.8127\n",
            "Epoch 49/50\n",
            "221/221 [==============================] - 137s 617ms/step - loss: 0.4799 - accuracy: 0.8127 - val_loss: 0.4756 - val_accuracy: 0.8127\n",
            "Epoch 50/50\n",
            "221/221 [==============================] - 136s 617ms/step - loss: 0.4789 - accuracy: 0.8127 - val_loss: 0.4776 - val_accuracy: 0.8127\n"
          ]
        },
        {
          "output_type": "stream",
          "name": "stderr",
          "text": [
            "/usr/local/lib/python3.10/dist-packages/keras/src/engine/training.py:3079: UserWarning: You are saving your model as an HDF5 file via `model.save()`. This file format is considered legacy. We recommend using instead the native Keras format, e.g. `model.save('my_model.keras')`.\n",
            "  saving_api.save_model(\n"
          ]
        }
      ],
      "source": [
        "# Freeze the layers of the pre-trained ResNet50 model\n",
        "for layer in base_model.layers:\n",
        "    layer.trainable = False\n",
        "\n",
        "# Build your model on top of ResNet50\n",
        "model = models.Sequential([\n",
        "    base_model,\n",
        "    layers.Flatten(),\n",
        "    layers.Dense(256, activation='relu'),\n",
        "    layers.Dropout(0.5),\n",
        "    layers.Dense(1, activation='sigmoid')  # binary classification, so using sigmoid activation\n",
        "])\n",
        "\n",
        "# Compile the model\n",
        "model.compile(optimizer=Adam(), loss='binary_crossentropy', metrics=['accuracy'])\n",
        "\n",
        "# Print the model summary\n",
        "model.summary()\n",
        "\n",
        "# Create data generators for training and validation\n",
        "train_datagen = ImageDataGenerator(rescale=1./255, shear_range=0.2, zoom_range=0.2, horizontal_flip=True)\n",
        "val_datagen = ImageDataGenerator(rescale=1./255)\n",
        "\n",
        "train_generator = train_datagen.flow_from_directory('/content/drive/MyDrive/brain_tumor_dataset2/', target_size=img_size, batch_size=batch_size, class_mode='binary')\n",
        "val_generator = val_datagen.flow_from_directory('/content/drive/MyDrive/brain_tumor_dataset2/', target_size=img_size, batch_size=batch_size, class_mode='binary')\n",
        "\n",
        "# Train the model\n",
        "history = model.fit(train_generator, epochs=epochs, validation_data=val_generator)\n",
        "\n",
        "# Save the model\n",
        "model.save('binary_classification_resnet50.h5')"
      ]
    }
  ],
  "metadata": {
    "colab": {
      "provenance": [],
      "gpuType": "T4"
    },
    "kernelspec": {
      "display_name": "Python 3",
      "name": "python3"
    },
    "language_info": {
      "name": "python"
    },
    "accelerator": "GPU"
  },
  "nbformat": 4,
  "nbformat_minor": 0
}